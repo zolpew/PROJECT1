{
 "cells": [
  {
   "cell_type": "markdown",
   "id": "2383865f",
   "metadata": {},
   "source": [
    "# IMPORT"
   ]
  },
  {
   "cell_type": "code",
   "execution_count": 1,
   "id": "b6790a0d",
   "metadata": {},
   "outputs": [
    {
     "name": "stderr",
     "output_type": "stream",
     "text": [
      "C:\\Users\\numan\\anaconda3\\envs\\ITS\\lib\\site-packages\\scipy\\__init__.py:146: UserWarning: A NumPy version >=1.16.5 and <1.23.0 is required for this version of SciPy (detected version 1.23.1\n",
      "  warnings.warn(f\"A NumPy version >={np_minversion} and <{np_maxversion}\"\n"
     ]
    }
   ],
   "source": [
    "\n",
    "from datetime import datetime\n",
    "import matplotlib.pyplot as plt\n",
    "import pandas as pd\n",
    "from pandas.plotting import register_matplotlib_converters\n",
    "register_matplotlib_converters()\n",
    "import MetaTrader5 as mt5\n",
    "import scipy.constants #untuk konstanta\n",
    "import tradingeconomics as te\n"
   ]
  },
  {
   "cell_type": "markdown",
   "id": "23322c50",
   "metadata": {},
   "source": [
    "# login to Metatrader 5 and Tradingeconomics API"
   ]
  },
  {
   "cell_type": "code",
   "execution_count": 2,
   "id": "05cd9ac3",
   "metadata": {},
   "outputs": [
    {
     "name": "stdout",
     "output_type": "stream",
     "text": [
      "TerminalInfo(community_account=False, community_connection=False, connected=True, dlls_allowed=False, trade_allowed=False, tradeapi_disabled=False, email_enabled=False, ftp_enabled=False, notifications_enabled=False, mqid=False, build=3419, maxbars=100000, codepage=0, ping_last=10000000, community_balance=0.0, retransmission=1.521299156555337, company='MetaQuotes Software Corp.', name='MetaTrader 5', language='English', path='C:\\\\Program Files\\\\MetaTrader 5', data_path='C:\\\\Users\\\\numan\\\\AppData\\\\Roaming\\\\MetaQuotes\\\\Terminal\\\\D0E8209F77C8CF37AD8BF550E51FF075', commondata_path='C:\\\\Users\\\\numan\\\\AppData\\\\Roaming\\\\MetaQuotes\\\\Terminal\\\\Common')\n",
      "(500, 3419, '02 Sep 2022')\n"
     ]
    }
   ],
   "source": [
    "#Trading Economics\n",
    "\n",
    "te.login('guest:guest')\n",
    "\n",
    "\n",
    "#Metatrader 5\n",
    "\n",
    "if not mt5.initialize(login=62239272, server=\"MetaQuotes-Demo\",password=\"mlqzja8n\"):\n",
    "    print(\"initialize() failed\")\n",
    "    mt5.shutdown()\n",
    "# request connection status and parameters\n",
    "print(mt5.terminal_info())\n",
    "# get data on MetaTrader 5 version\n",
    "print(mt5.version())"
   ]
  },
  {
   "cell_type": "markdown",
   "id": "10db6194",
   "metadata": {},
   "source": [
    "# Ambil data ticks dan rate(terdapat ploting untuk ticks berupa data bid dan ask)"
   ]
  },
  {
   "cell_type": "code",
   "execution_count": 3,
   "id": "d9b0928d",
   "metadata": {},
   "outputs": [
    {
     "name": "stdout",
     "output_type": "stream",
     "text": [
      "xauusd_ticks( 131129 )\n",
      "(1580104800, 1579.42, 1579.65, 0., 0, 1580104800552, 130, 0.)\n",
      "(1580104801, 1579.41, 1579.64, 0., 0, 1580104801752, 134, 0.)\n",
      "(1580104805, 1579.42, 1579.65, 0., 0, 1580104805061, 134, 0.)\n",
      "(1580104805, 1579.41, 1579.64, 0., 0, 1580104805761, 134, 0.)\n",
      "(1580104806, 1579.41, 1579.63, 0., 0, 1580104806161, 4, 0.)\n",
      "(1580104806, 1579.4, 1579.63, 0., 0, 1580104806657, 130, 0.)\n",
      "(1580104806, 1579.41, 1579.62, 0., 0, 1580104806962, 134, 0.)\n",
      "(1580104807, 1579.4, 1579.63, 0., 0, 1580104807967, 134, 0.)\n",
      "(1580104808, 1579.39, 1579.57, 0., 0, 1580104808265, 134, 0.)\n",
      "(1580104808, 1579.39, 1579.6, 0., 0, 1580104808468, 4, 0.)\n",
      "xauusd_rates( 1 )\n",
      "(1653634140, 1853.69, 1853.76, 1853.49, 1853.49, 20, 8, 0)\n"
     ]
    },
    {
     "data": {
      "image/png": "[encoded data removed]",
      "text/plain": [
       "<Figure size 432x288 with 1 Axes>"
      ]
     },
     "metadata": {
      "needs_background": "light"
     },
     "output_type": "display_data"
    }
   ],
   "source": [
    "# mndapatkan ticks emas dolar, terdapat bid dan ask\n",
    "xauusd_ticks = mt5.copy_ticks_range(\"XAUUSD\", datetime(2020,1,27,13), datetime(2020,1,28,13), mt5.COPY_TICKS_ALL)\n",
    "\n",
    "#rates\n",
    "xauusd_rates = mt5.copy_rates_range(\"XAUUSD\", mt5.TIMEFRAME_M1, datetime(2020,1,27,13), datetime(2020,1,28,13))\n",
    "\n",
    "#memutuskan hubungan\n",
    "mt5.shutdown()\n",
    "\n",
    "print('xauusd_ticks(', len(xauusd_ticks), ')')\n",
    "for val in xauusd_ticks[:10]: print(val)\n",
    "\n",
    "print('xauusd_rates(', len(xauusd_rates), ')')\n",
    "for val in xauusd_rates[:10]: print(val)\n",
    "ticks_frame = pd.DataFrame(xauusd_ticks)\n",
    "\n",
    "# convert time in seconds into the datetime format\n",
    "ticks_frame['time']=pd.to_datetime(ticks_frame['time'], unit='s')\n",
    "\n",
    "#display ticks on the chart\n",
    "plt.plot(ticks_frame['time'], ticks_frame['ask'], 'r-', label='ask')\n",
    "plt.plot(ticks_frame['time'], ticks_frame['bid'], 'b-', label='bid')\n",
    " \n",
    "# display the legends\n",
    "plt.legend(loc='upper left')\n",
    " \n",
    "# add the header\n",
    "plt.title('XAUUSD ticks')\n",
    " \n",
    "# display the chart\n",
    "plt.show()"
   ]
  },
  {
   "cell_type": "markdown",
   "id": "bc6bfa72",
   "metadata": {},
   "source": [
    "# Objek EDGBOT"
   ]
  },
  {
   "cell_type": "code",
   "execution_count": 66,
   "id": "21c063ea",
   "metadata": {},
   "outputs": [],
   "source": [
    "class EDGBOT:\n",
    "    #insiasi\n",
    "    def __init__(self, bid, ask, country, initDate, endDate):\n",
    "        self.initDate = initDate\n",
    "        self.endDate = endDate\n",
    "        self.country = country\n",
    "        self.bid = bid\n",
    "        self.ask = ask\n",
    "        self.point = 10\n",
    "        self.gold_constanta = -1\n",
    "        self.psi = scipy.constants.golden\n",
    "        #self.memory = deque(maxlen = 1000)\n",
    "        self.inventory = []\n",
    "        self.InvTotalISE = 0\n",
    "        \n",
    "    def get_event(self): \n",
    "        mydata = te.getCalendarData(country = self.country, initDate = self.initDate, endDate = self.endDate, output_type= 'df')\n",
    "        print(mydata)\n",
    "        inventory = self.inventory\n",
    "        for i in range(0, len(mydata)):\n",
    "           event = mydata['Event'][i]\n",
    "           amp = mydata['Importance'][i]\n",
    "           try:\n",
    "               forecast = float(mydata['Forecast'][i].strip('%').strip('K'))\n",
    "               print(forecast)\n",
    "                \n",
    "           except ValueError:\n",
    "               forecast = 0 \n",
    "           try:\n",
    "               actual = float(mydata[\"Actual\"][i].strip('%').strip('K'))\n",
    "           except ValueError:\n",
    "               actual = 0  \n",
    "           try:\n",
    "                previous = float(mydata['Previous'][i].strip('%').strip('K'))\n",
    "           except ValueError:\n",
    "                previous = 0       \n",
    "           if forecast == 0 :\n",
    "               print(\"forecast = 0\")\n",
    "           elif actual == 0 :\n",
    "               print(\"actual = 0\")\n",
    "           elif previous == 0:\n",
    "               print(\"previous = 0\")\n",
    "           else:\n",
    "               percentage_change = ((abs(actual-forecast) + abs(previous-forecast)) / abs(forecast)) * self.get_orientation(actual, forecast)\n",
    "               inventory.append((event, amp, actual, previous, forecast, percentage_change))\n",
    "        \n",
    "\n",
    "    # untuk rumus utama( perkalian SUM dengan konstanta lainnya)\n",
    "    def counter_result(self):\n",
    "        Total_ISE = self.intreval_sum_event()\n",
    "        result = Total_ISE * self.point * self.gold_constanta\n",
    "        return result\n",
    "\n",
    "    #rumus mencari (Interval sum of event) dengan rumus sli(sigma dari perkalian\n",
    "    #traits amplifikasi dan perubahan persen)\n",
    "    def intreval_sum_event(self):\n",
    "        inventory = self.inventory\n",
    "        InvTotalISE = self.InvTotalISE\n",
    "        traits = 1\n",
    "        \n",
    "        \n",
    "        #looping pada setiap event yang ada\n",
    "        for i in range(0, len(inventory)):\n",
    "            event, amp, actual, previous, forecast, percentage_change = inventory[i]\n",
    "            ISE = traits * amp * percentage_change\n",
    "            InvTotalISE += ISE\n",
    "            return InvTotalISE\n",
    "     \n",
    "    \n",
    "    #menghitung orientasi\n",
    "    def get_orientation(self, current, forecast):\n",
    "        c = current\n",
    "        f = forecast       \n",
    "        if c == f:\n",
    "            orientation = 0\n",
    "        elif c > f:\n",
    "            orientation = 1\n",
    "        elif c < f:\n",
    "            orientation = -1            \n",
    "        return orientation \n",
    "    \n",
    "    #def buy:\n",
    "        \n",
    "    #def sell:\n",
    "        \n",
    "    #def hold:\n",
    "        \n",
    "        \n",
    "    #def act:\n",
    "    "
   ]
  },
  {
   "cell_type": "code",
   "execution_count": 67,
   "id": "1b02ac3b",
   "metadata": {},
   "outputs": [
    {
     "name": "stdout",
     "output_type": "stream",
     "text": [
      "  CalendarId                 Date        Country               Category  \\\n",
      "0     124630  2017-01-03T15:00:00  United States    Business Confidence   \n",
      "1     124629  2017-01-03T14:45:00  United States      Manufacturing PMI   \n",
      "2     145234  2017-01-03T12:00:00  United States  Mortgage Applications   \n",
      "\n",
      "                            Event Reference        ReferenceDate  \\\n",
      "0           ISM Manufacturing PMI       Dec  2016-12-31T00:00:00   \n",
      "1  Markit Manufacturing PMI Final       Dec  2016-12-31T00:00:00   \n",
      "2       MBA Mortgage Applications    22/Dec  2017-12-22T00:00:00   \n",
      "\n",
      "                                    Source                        SourceURL  \\\n",
      "0          Institute for Supply Management         https://www.ismworld.org   \n",
      "1                         Markit Economics  https://www.markiteconomics.com   \n",
      "2  Mortgage Bankers Association of America  http://www.mortgagebankers.org/   \n",
      "\n",
      "  Actual  ... TEForecast                                   URL DateSpan  \\\n",
      "0   54.7  ...       53.4    /united-states/business-confidence        0   \n",
      "1   54.3  ...       54.2      /united-states/manufacturing-pmi        0   \n",
      "2   0.7%  ...      0.46%  /united-states/mortgage-applications        0   \n",
      "\n",
      "  Importance           LastUpdate  Revised Currency Unit           Ticker  \\\n",
      "0          2  2019-01-01T00:00:00                                 NAPMPMI   \n",
      "1          2  2017-01-03T14:45:00                         UNITEDSTAMANPMI   \n",
      "2          1  2018-01-03T12:00:00                      %  UNITEDSTAMORAPP   \n",
      "\n",
      "            Symbol  \n",
      "0          NAPMPMI  \n",
      "1  UNITEDSTAMANPMI  \n",
      "2  UNITEDSTAMORAPP  \n",
      "\n",
      "[3 rows x 22 columns]\n",
      "58.0\n",
      "54.2\n",
      "forecast = 0\n"
     ]
    },
    {
     "data": {
      "text/plain": [
       "2.79310344827586"
      ]
     },
     "execution_count": 67,
     "metadata": {},
     "output_type": "execute_result"
    }
   ],
   "source": [
    "EDGBOT = EDGBOT( bid = 1, ask = 1, country = 'United States', initDate = '2017-01-01', endDate = '2018-01-01' )\n",
    "EDGBOT.get_event()\n",
    "EDGBOT.counter_result()\n"
   ]
  },
  {
   "cell_type": "code",
   "execution_count": null,
   "id": "106632ff",
   "metadata": {},
   "outputs": [],
   "source": []
  }
 ],
 "metadata": {
  "kernelspec": {
   "display_name": "Python 3 (ipykernel)",
   "language": "python",
   "name": "python3"
  },
  "language_info": {
   "codemirror_mode": {
    "name": "ipython",
    "version": 3
   },
   "file_extension": ".py",
   "mimetype": "text/x-python",
   "name": "python",
   "nbconvert_exporter": "python",
   "pygments_lexer": "ipython3",
   "version": "3.9.12"
  }
 },
 "nbformat": 4,
 "nbformat_minor": 5
}
